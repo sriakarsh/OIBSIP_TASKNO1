{
  "nbformat": 4,
  "nbformat_minor": 0,
  "metadata": {
    "colab": {
      "provenance": [],
      "authorship_tag": "ABX9TyMdpsGkRJU5RjPEwMaart2b"
    },
    "kernelspec": {
      "name": "python3",
      "display_name": "Python 3"
    },
    "language_info": {
      "name": "python"
    }
  },
  "cells": [
    {
      "cell_type": "markdown",
      "source": [
        "change in incremental current ratios\n"
      ],
      "metadata": {
        "id": "m1UMbn_Gp5_y"
      }
    },
    {
      "cell_type": "code",
      "source": [
        "from google.colab import drive\n",
        "drive.mount('/content/drive')"
      ],
      "metadata": {
        "colab": {
          "base_uri": "https://localhost:8080/"
        },
        "id": "lUF-OYgSqBQs",
        "outputId": "964b5c0d-c4db-4d41-a625-ba03fe9e3ba3"
      },
      "execution_count": 1,
      "outputs": [
        {
          "output_type": "stream",
          "name": "stdout",
          "text": [
            "Mounted at /content/drive\n"
          ]
        }
      ]
    },
    {
      "cell_type": "code",
      "source": [
        "import pandas as pd\n",
        "import numpy as np\n",
        "import matplotlib.pyplot as plt\n",
        "from sklearn.model_selection import train_test_split\n",
        "from sklearn.preprocessing import StandardScaler\n",
        "from sklearn.metrics import confusion_matrix, accuracy_score\n",
        "from sklearn.preprocessing import LabelEncoder\n",
        "from sklearn.compose import ColumnTransformer\n",
        "from sklearn.preprocessing import OneHotEncoder\n",
        "from keras.utils import np_utils\n",
        "from tensorflow.keras.layers import Dense\n",
        "from tensorflow.keras.models import Sequential"
      ],
      "metadata": {
        "id": "Wh-nxibkqYCN"
      },
      "execution_count": 2,
      "outputs": []
    },
    {
      "cell_type": "code",
      "source": [
        "classData = pd.read_csv('/content/drive/MyDrive/data_ratio.csv')"
      ],
      "metadata": {
        "id": "szFOLdyUqsc0"
      },
      "execution_count": 3,
      "outputs": []
    },
    {
      "cell_type": "code",
      "source": [
        "classData.shape"
      ],
      "metadata": {
        "colab": {
          "base_uri": "https://localhost:8080/"
        },
        "id": "Z8I688QjrUp8",
        "outputId": "6d6f55c4-86a5-4721-e6d6-969ac0ac48dc"
      },
      "execution_count": 4,
      "outputs": [
        {
          "output_type": "execute_result",
          "data": {
            "text/plain": [
              "(4680, 4)"
            ]
          },
          "metadata": {},
          "execution_count": 4
        }
      ]
    },
    {
      "cell_type": "code",
      "source": [
        "classData.head()"
      ],
      "metadata": {
        "colab": {
          "base_uri": "https://localhost:8080/",
          "height": 206
        },
        "id": "A-TKLwO1rZAr",
        "outputId": "786d52db-1c0a-401e-9173-b2f9003ed46c"
      },
      "execution_count": 5,
      "outputs": [
        {
          "output_type": "execute_result",
          "data": {
            "text/plain": [
              "  Ftype        C1        C2        C3\n",
              "0    AG  0.376931  0.305152  0.317916\n",
              "1    AG  0.379250  0.305309  0.315441\n",
              "2    AG  0.403138  0.295417  0.301446\n",
              "3    AG  0.366978  0.307204  0.325818\n",
              "4    AG  0.370660  0.308523  0.320816"
            ],
            "text/html": [
              "\n",
              "  <div id=\"df-32699266-2a0f-439a-86a0-d9c417082a4b\">\n",
              "    <div class=\"colab-df-container\">\n",
              "      <div>\n",
              "<style scoped>\n",
              "    .dataframe tbody tr th:only-of-type {\n",
              "        vertical-align: middle;\n",
              "    }\n",
              "\n",
              "    .dataframe tbody tr th {\n",
              "        vertical-align: top;\n",
              "    }\n",
              "\n",
              "    .dataframe thead th {\n",
              "        text-align: right;\n",
              "    }\n",
              "</style>\n",
              "<table border=\"1\" class=\"dataframe\">\n",
              "  <thead>\n",
              "    <tr style=\"text-align: right;\">\n",
              "      <th></th>\n",
              "      <th>Ftype</th>\n",
              "      <th>C1</th>\n",
              "      <th>C2</th>\n",
              "      <th>C3</th>\n",
              "    </tr>\n",
              "  </thead>\n",
              "  <tbody>\n",
              "    <tr>\n",
              "      <th>0</th>\n",
              "      <td>AG</td>\n",
              "      <td>0.376931</td>\n",
              "      <td>0.305152</td>\n",
              "      <td>0.317916</td>\n",
              "    </tr>\n",
              "    <tr>\n",
              "      <th>1</th>\n",
              "      <td>AG</td>\n",
              "      <td>0.379250</td>\n",
              "      <td>0.305309</td>\n",
              "      <td>0.315441</td>\n",
              "    </tr>\n",
              "    <tr>\n",
              "      <th>2</th>\n",
              "      <td>AG</td>\n",
              "      <td>0.403138</td>\n",
              "      <td>0.295417</td>\n",
              "      <td>0.301446</td>\n",
              "    </tr>\n",
              "    <tr>\n",
              "      <th>3</th>\n",
              "      <td>AG</td>\n",
              "      <td>0.366978</td>\n",
              "      <td>0.307204</td>\n",
              "      <td>0.325818</td>\n",
              "    </tr>\n",
              "    <tr>\n",
              "      <th>4</th>\n",
              "      <td>AG</td>\n",
              "      <td>0.370660</td>\n",
              "      <td>0.308523</td>\n",
              "      <td>0.320816</td>\n",
              "    </tr>\n",
              "  </tbody>\n",
              "</table>\n",
              "</div>\n",
              "      <button class=\"colab-df-convert\" onclick=\"convertToInteractive('df-32699266-2a0f-439a-86a0-d9c417082a4b')\"\n",
              "              title=\"Convert this dataframe to an interactive table.\"\n",
              "              style=\"display:none;\">\n",
              "        \n",
              "  <svg xmlns=\"http://www.w3.org/2000/svg\" height=\"24px\"viewBox=\"0 0 24 24\"\n",
              "       width=\"24px\">\n",
              "    <path d=\"M0 0h24v24H0V0z\" fill=\"none\"/>\n",
              "    <path d=\"M18.56 5.44l.94 2.06.94-2.06 2.06-.94-2.06-.94-.94-2.06-.94 2.06-2.06.94zm-11 1L8.5 8.5l.94-2.06 2.06-.94-2.06-.94L8.5 2.5l-.94 2.06-2.06.94zm10 10l.94 2.06.94-2.06 2.06-.94-2.06-.94-.94-2.06-.94 2.06-2.06.94z\"/><path d=\"M17.41 7.96l-1.37-1.37c-.4-.4-.92-.59-1.43-.59-.52 0-1.04.2-1.43.59L10.3 9.45l-7.72 7.72c-.78.78-.78 2.05 0 2.83L4 21.41c.39.39.9.59 1.41.59.51 0 1.02-.2 1.41-.59l7.78-7.78 2.81-2.81c.8-.78.8-2.07 0-2.86zM5.41 20L4 18.59l7.72-7.72 1.47 1.35L5.41 20z\"/>\n",
              "  </svg>\n",
              "      </button>\n",
              "      \n",
              "  <style>\n",
              "    .colab-df-container {\n",
              "      display:flex;\n",
              "      flex-wrap:wrap;\n",
              "      gap: 12px;\n",
              "    }\n",
              "\n",
              "    .colab-df-convert {\n",
              "      background-color: #E8F0FE;\n",
              "      border: none;\n",
              "      border-radius: 50%;\n",
              "      cursor: pointer;\n",
              "      display: none;\n",
              "      fill: #1967D2;\n",
              "      height: 32px;\n",
              "      padding: 0 0 0 0;\n",
              "      width: 32px;\n",
              "    }\n",
              "\n",
              "    .colab-df-convert:hover {\n",
              "      background-color: #E2EBFA;\n",
              "      box-shadow: 0px 1px 2px rgba(60, 64, 67, 0.3), 0px 1px 3px 1px rgba(60, 64, 67, 0.15);\n",
              "      fill: #174EA6;\n",
              "    }\n",
              "\n",
              "    [theme=dark] .colab-df-convert {\n",
              "      background-color: #3B4455;\n",
              "      fill: #D2E3FC;\n",
              "    }\n",
              "\n",
              "    [theme=dark] .colab-df-convert:hover {\n",
              "      background-color: #434B5C;\n",
              "      box-shadow: 0px 1px 3px 1px rgba(0, 0, 0, 0.15);\n",
              "      filter: drop-shadow(0px 1px 2px rgba(0, 0, 0, 0.3));\n",
              "      fill: #FFFFFF;\n",
              "    }\n",
              "  </style>\n",
              "\n",
              "      <script>\n",
              "        const buttonEl =\n",
              "          document.querySelector('#df-32699266-2a0f-439a-86a0-d9c417082a4b button.colab-df-convert');\n",
              "        buttonEl.style.display =\n",
              "          google.colab.kernel.accessAllowed ? 'block' : 'none';\n",
              "\n",
              "        async function convertToInteractive(key) {\n",
              "          const element = document.querySelector('#df-32699266-2a0f-439a-86a0-d9c417082a4b');\n",
              "          const dataTable =\n",
              "            await google.colab.kernel.invokeFunction('convertToInteractive',\n",
              "                                                     [key], {});\n",
              "          if (!dataTable) return;\n",
              "\n",
              "          const docLinkHtml = 'Like what you see? Visit the ' +\n",
              "            '<a target=\"_blank\" href=https://colab.research.google.com/notebooks/data_table.ipynb>data table notebook</a>'\n",
              "            + ' to learn more about interactive tables.';\n",
              "          element.innerHTML = '';\n",
              "          dataTable['output_type'] = 'display_data';\n",
              "          await google.colab.output.renderOutput(dataTable, element);\n",
              "          const docLink = document.createElement('div');\n",
              "          docLink.innerHTML = docLinkHtml;\n",
              "          element.appendChild(docLink);\n",
              "        }\n",
              "      </script>\n",
              "    </div>\n",
              "  </div>\n",
              "  "
            ]
          },
          "metadata": {},
          "execution_count": 5
        }
      ]
    },
    {
      "cell_type": "code",
      "source": [
        "Xclass = classData.iloc[:, 1:].values\n",
        "yclass = classData.iloc[:, 0:1].values"
      ],
      "metadata": {
        "id": "HG3y3XoqrfZV"
      },
      "execution_count": 6,
      "outputs": []
    },
    {
      "cell_type": "code",
      "source": [
        "print(Xclass[0,:])"
      ],
      "metadata": {
        "colab": {
          "base_uri": "https://localhost:8080/"
        },
        "id": "_r0ewSyTr5k3",
        "outputId": "956ff22c-663b-4bc6-ad19-bb2fa2b4f16a"
      },
      "execution_count": 7,
      "outputs": [
        {
          "output_type": "stream",
          "name": "stdout",
          "text": [
            "[0.37693136 0.30515222 0.31791642]\n"
          ]
        }
      ]
    },
    {
      "cell_type": "code",
      "source": [
        "print(yclass[0:5,:])"
      ],
      "metadata": {
        "colab": {
          "base_uri": "https://localhost:8080/"
        },
        "id": "K36Z215br9ag",
        "outputId": "16151b80-f013-4cd5-db78-a963a687a3c4"
      },
      "execution_count": 8,
      "outputs": [
        {
          "output_type": "stream",
          "name": "stdout",
          "text": [
            "[['AG']\n",
            " ['AG']\n",
            " ['AG']\n",
            " ['AG']\n",
            " ['AG']]\n"
          ]
        }
      ]
    },
    {
      "cell_type": "code",
      "source": [
        "from os import ftruncate\n",
        "FT=[\"AG\",\"AB\",\"BCG\",\"ABCG\"]\n",
        "y = []\n",
        "for ty in yclass:\n",
        "  if ty[0] == \"AG\" :\n",
        "    y.append(FT[0])\n",
        "  elif ty[0] == \"AB\" :\n",
        "    y.append(FT[1])\n",
        "  elif ty[0] == \"BCG\" :\n",
        "    y.append(FT[2])\n",
        "  else:\n",
        "    y.append(FT[3])\n",
        "yc = np.array(y)\n",
        "print(f\"AG : {len(yc[yc==FT[0]])}\")\n",
        "print(f\"AB : {len(yc[yc==FT[1]])}\")\n",
        "print(f\"BCG : {len(yc[yc==FT[2]])}\")\n",
        "print(f\"ABCG : {len(yc[yc==FT[3]])}\")\n",
        "yclass = y\n"
      ],
      "metadata": {
        "colab": {
          "base_uri": "https://localhost:8080/"
        },
        "id": "GitMnpt9sIOD",
        "outputId": "fcbd4ebb-b04e-457b-92d1-c458fad372e1"
      },
      "execution_count": 9,
      "outputs": [
        {
          "output_type": "stream",
          "name": "stdout",
          "text": [
            "AG : 1170\n",
            "AB : 1170\n",
            "BCG : 1170\n",
            "ABCG : 1170\n"
          ]
        }
      ]
    },
    {
      "cell_type": "code",
      "source": [
        "encoder = LabelEncoder()\n",
        "encoder.fit(yclass)\n",
        "encoded_Y = encoder.transform(yclass)\n",
        "yclass = np_utils.to_categorical(encoded_Y)"
      ],
      "metadata": {
        "id": "RRdcALTGtwwu"
      },
      "execution_count": 10,
      "outputs": []
    },
    {
      "cell_type": "code",
      "source": [
        "Xc_train, Xc_test, yc_train, yc_test = train_test_split(Xclass, yclass, test_size = 0.1, random_state = 0)\n",
        "# here training is 90%,remaining testing\n"
      ],
      "metadata": {
        "id": "4NqhxEL5t34O"
      },
      "execution_count": 11,
      "outputs": []
    },
    {
      "cell_type": "code",
      "source": [
        "sc = StandardScaler()\n",
        "Xc_train = sc.fit_transform(Xc_train)\n",
        "Xc_test = sc.transform(Xc_test)"
      ],
      "metadata": {
        "id": "fgSbeFARuIym"
      },
      "execution_count": 12,
      "outputs": []
    },
    {
      "cell_type": "code",
      "source": [
        "\n",
        "# classANN = Sequential()\n",
        "# classANN.add(Dense(units=12, activation='relu'))\n",
        "# classANN.add(Dense(units=12, activation='relu'))\n",
        "# classANN.add(Dense(units=6, activation='sigmoid'))\n",
        "# classANN.compile(optimizer = 'adam', loss = 'categorical_crossentropy', metrics = ['accuracy'])\n",
        "# # classANN.compile(optimizer = 'adam',loss='binary_crossentropy', metrics = ['accuracy'])\n",
        "\n"
      ],
      "metadata": {
        "id": "nkTteKOZuM12"
      },
      "execution_count": 13,
      "outputs": []
    },
    {
      "cell_type": "code",
      "source": [
        "classANN = Sequential()\n",
        "classANN.add(Dense(units=12, activation='relu', input_shape=(3,)))\n",
        "classANN.add(Dense(units=12, activation='relu'))\n",
        "classANN.add(Dense(units=4, activation='softmax')) \n",
        "classANN.compile(optimizer='adam', loss='categorical_crossentropy', metrics=['accuracy'])"
      ],
      "metadata": {
        "id": "GgaL9Tn394w2"
      },
      "execution_count": 14,
      "outputs": []
    },
    {
      "cell_type": "code",
      "source": [
        "classANN.fit(Xc_train, yc_train, batch_size = 32, epochs = 50)\n",
        "# classANN.fit(Xc_train, yc_train, batch_size = 64, epochs = 50)\n",
        "# classANN.fit(Xc_train, yc_train, batch_size = 32, epochs = 100)"
      ],
      "metadata": {
        "colab": {
          "base_uri": "https://localhost:8080/"
        },
        "id": "FrkP-nqHuQoB",
        "outputId": "619533c9-f915-458b-dd29-c812807259bb"
      },
      "execution_count": 15,
      "outputs": [
        {
          "output_type": "stream",
          "name": "stdout",
          "text": [
            "Epoch 1/50\n",
            "132/132 [==============================] - 1s 1ms/step - loss: 1.2130 - accuracy: 0.4596\n",
            "Epoch 2/50\n",
            "132/132 [==============================] - 0s 1ms/step - loss: 0.8353 - accuracy: 0.5608\n",
            "Epoch 3/50\n",
            "132/132 [==============================] - 0s 1ms/step - loss: 0.6392 - accuracy: 0.8058\n",
            "Epoch 4/50\n",
            "132/132 [==============================] - 0s 2ms/step - loss: 0.5075 - accuracy: 0.8500\n",
            "Epoch 5/50\n",
            "132/132 [==============================] - 0s 1ms/step - loss: 0.4203 - accuracy: 0.8692\n",
            "Epoch 6/50\n",
            "132/132 [==============================] - 0s 1ms/step - loss: 0.3547 - accuracy: 0.8818\n",
            "Epoch 7/50\n",
            "132/132 [==============================] - 0s 1ms/step - loss: 0.3129 - accuracy: 0.8875\n",
            "Epoch 8/50\n",
            "132/132 [==============================] - 0s 1ms/step - loss: 0.2858 - accuracy: 0.8962\n",
            "Epoch 9/50\n",
            "132/132 [==============================] - 0s 2ms/step - loss: 0.2653 - accuracy: 0.9088\n",
            "Epoch 10/50\n",
            "132/132 [==============================] - 0s 1ms/step - loss: 0.2526 - accuracy: 0.9079\n",
            "Epoch 11/50\n",
            "132/132 [==============================] - 0s 1ms/step - loss: 0.2418 - accuracy: 0.9133\n",
            "Epoch 12/50\n",
            "132/132 [==============================] - 0s 1ms/step - loss: 0.2337 - accuracy: 0.9148\n",
            "Epoch 13/50\n",
            "132/132 [==============================] - 0s 1ms/step - loss: 0.2266 - accuracy: 0.9174\n",
            "Epoch 14/50\n",
            "132/132 [==============================] - 0s 1ms/step - loss: 0.2211 - accuracy: 0.9193\n",
            "Epoch 15/50\n",
            "132/132 [==============================] - 0s 1ms/step - loss: 0.2181 - accuracy: 0.9181\n",
            "Epoch 16/50\n",
            "132/132 [==============================] - 0s 1ms/step - loss: 0.2130 - accuracy: 0.9219\n",
            "Epoch 17/50\n",
            "132/132 [==============================] - 0s 1ms/step - loss: 0.2104 - accuracy: 0.9236\n",
            "Epoch 18/50\n",
            "132/132 [==============================] - 0s 1ms/step - loss: 0.2061 - accuracy: 0.9243\n",
            "Epoch 19/50\n",
            "132/132 [==============================] - 0s 1ms/step - loss: 0.2029 - accuracy: 0.9250\n",
            "Epoch 20/50\n",
            "132/132 [==============================] - 0s 1ms/step - loss: 0.2012 - accuracy: 0.9271\n",
            "Epoch 21/50\n",
            "132/132 [==============================] - 0s 1ms/step - loss: 0.2001 - accuracy: 0.9257\n",
            "Epoch 22/50\n",
            "132/132 [==============================] - 0s 1ms/step - loss: 0.1964 - accuracy: 0.9276\n",
            "Epoch 23/50\n",
            "132/132 [==============================] - 0s 1ms/step - loss: 0.1957 - accuracy: 0.9290\n",
            "Epoch 24/50\n",
            "132/132 [==============================] - 0s 1ms/step - loss: 0.1929 - accuracy: 0.9297\n",
            "Epoch 25/50\n",
            "132/132 [==============================] - 0s 1ms/step - loss: 0.1919 - accuracy: 0.9288\n",
            "Epoch 26/50\n",
            "132/132 [==============================] - 0s 1ms/step - loss: 0.1904 - accuracy: 0.9300\n",
            "Epoch 27/50\n",
            "132/132 [==============================] - 0s 2ms/step - loss: 0.1889 - accuracy: 0.9300\n",
            "Epoch 28/50\n",
            "132/132 [==============================] - 0s 2ms/step - loss: 0.1876 - accuracy: 0.9314\n",
            "Epoch 29/50\n",
            "132/132 [==============================] - 0s 2ms/step - loss: 0.1868 - accuracy: 0.9316\n",
            "Epoch 30/50\n",
            "132/132 [==============================] - 0s 2ms/step - loss: 0.1858 - accuracy: 0.9314\n",
            "Epoch 31/50\n",
            "132/132 [==============================] - 0s 2ms/step - loss: 0.1839 - accuracy: 0.9314\n",
            "Epoch 32/50\n",
            "132/132 [==============================] - 0s 2ms/step - loss: 0.1827 - accuracy: 0.9328\n",
            "Epoch 33/50\n",
            "132/132 [==============================] - 0s 2ms/step - loss: 0.1819 - accuracy: 0.9354\n",
            "Epoch 34/50\n",
            "132/132 [==============================] - 0s 2ms/step - loss: 0.1809 - accuracy: 0.9347\n",
            "Epoch 35/50\n",
            "132/132 [==============================] - 0s 2ms/step - loss: 0.1791 - accuracy: 0.9335\n",
            "Epoch 36/50\n",
            "132/132 [==============================] - 0s 2ms/step - loss: 0.1790 - accuracy: 0.9352\n",
            "Epoch 37/50\n",
            "132/132 [==============================] - 0s 2ms/step - loss: 0.1784 - accuracy: 0.9335\n",
            "Epoch 38/50\n",
            "132/132 [==============================] - 0s 2ms/step - loss: 0.1769 - accuracy: 0.9349\n",
            "Epoch 39/50\n",
            "132/132 [==============================] - 0s 2ms/step - loss: 0.1759 - accuracy: 0.9342\n",
            "Epoch 40/50\n",
            "132/132 [==============================] - 0s 1ms/step - loss: 0.1754 - accuracy: 0.9359\n",
            "Epoch 41/50\n",
            "132/132 [==============================] - 0s 1ms/step - loss: 0.1743 - accuracy: 0.9349\n",
            "Epoch 42/50\n",
            "132/132 [==============================] - 0s 1ms/step - loss: 0.1733 - accuracy: 0.9361\n",
            "Epoch 43/50\n",
            "132/132 [==============================] - 0s 2ms/step - loss: 0.1733 - accuracy: 0.9354\n",
            "Epoch 44/50\n",
            "132/132 [==============================] - 0s 1ms/step - loss: 0.1720 - accuracy: 0.9371\n",
            "Epoch 45/50\n",
            "132/132 [==============================] - 0s 1ms/step - loss: 0.1717 - accuracy: 0.9354\n",
            "Epoch 46/50\n",
            "132/132 [==============================] - 0s 1ms/step - loss: 0.1706 - accuracy: 0.9347\n",
            "Epoch 47/50\n",
            "132/132 [==============================] - 0s 1ms/step - loss: 0.1702 - accuracy: 0.9364\n",
            "Epoch 48/50\n",
            "132/132 [==============================] - 0s 1ms/step - loss: 0.1697 - accuracy: 0.9368\n",
            "Epoch 49/50\n",
            "132/132 [==============================] - 0s 1ms/step - loss: 0.1689 - accuracy: 0.9364\n",
            "Epoch 50/50\n",
            "132/132 [==============================] - 0s 2ms/step - loss: 0.1691 - accuracy: 0.9368\n"
          ]
        },
        {
          "output_type": "execute_result",
          "data": {
            "text/plain": [
              "<keras.callbacks.History at 0x7f795c122ec0>"
            ]
          },
          "metadata": {},
          "execution_count": 15
        }
      ]
    },
    {
      "cell_type": "code",
      "source": [
        "loss, acc = classANN.evaluate(Xc_test, yc_test)\n",
        "print(f'Accuracy : {acc*100} %')"
      ],
      "metadata": {
        "colab": {
          "base_uri": "https://localhost:8080/"
        },
        "id": "5h7f-RFi-Fhz",
        "outputId": "ae4f263c-7d25-4cfa-930a-7f616d925d7f"
      },
      "execution_count": 18,
      "outputs": [
        {
          "output_type": "stream",
          "name": "stdout",
          "text": [
            "15/15 [==============================] - 0s 2ms/step - loss: 0.2093 - accuracy: 0.9188\n",
            "Accuracy : 91.88033938407898 %\n"
          ]
        }
      ]
    },
    {
      "cell_type": "code",
      "source": [
        "# yc_train.shape"
      ],
      "metadata": {
        "id": "UU99f9Su6peO"
      },
      "execution_count": 17,
      "outputs": []
    }
  ]
}